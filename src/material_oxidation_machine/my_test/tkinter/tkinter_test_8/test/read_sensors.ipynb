{
 "cells": [
  {
   "cell_type": "markdown",
   "id": "72ceb66f-4380-4653-87f7-0c5bdea7c5b3",
   "metadata": {},
   "source": [
    "### leer archivo"
   ]
  },
  {
   "cell_type": "code",
   "execution_count": 1,
   "id": "5c4336ef",
   "metadata": {},
   "outputs": [],
   "source": [
    "# instalar librerias en el sistema, mejor en la carpeta del proyecto\n",
    "# windows 10= \n",
    "        # pip install pandas\n",
    "        # pip install numpy\n",
    "        # pip install seaborn\n",
    "        # pip install matplotlib\n",
    "        # pip install ipython"
   ]
  },
  {
   "cell_type": "code",
   "execution_count": 2,
   "id": "b669d0e4-bba7-40b1-ab5d-8b9c407a4dcf",
   "metadata": {},
   "outputs": [],
   "source": [
    "# importar las librerias necesarias\n",
    "import numpy as np\n",
    "import pandas as pd\n",
    "import seaborn as sns\n",
    "import os\n",
    "from IPython.display import Image"
   ]
  },
  {
   "cell_type": "code",
   "execution_count": 3,
   "id": "23b1dc22",
   "metadata": {},
   "outputs": [],
   "source": [
    "#elejir el archivo por consola\n",
    "def my_name_file():\n",
    "    #----------------------------------------------------------------\n",
    "    while True:\n",
    "        year = input(\"Que año quieres revisar?: \\n\")\n",
    "        try:\n",
    "            year = int(year)\n",
    "            print(\"numero verificado: \"+str(year))\n",
    "            break\n",
    "        except ValueError:\n",
    "            print(\"Esto no es un numero\")\n",
    "    #----------------------------------------------------------------\n",
    "    while True:\n",
    "        print(\"Elije el mes que quieres revisar escribiendo su numero del 1 al 12: \\n\")\n",
    "\n",
    "        while True:\n",
    "            month = input(\"[1] Enero\\n\"+\"[2] Febrero\\n\"+\"[3] Marzo\\n\"+\n",
    "                        \"[4] Abril\\n\"+\"[5] Mayo\\n\"+\"[6] Junio\\n\"+\n",
    "                        \"[7] Julio\\n\"+\"[8] Agosto\\n\"+\"[9] Septiembre\\n\"+\n",
    "                        \"[10] Octubre\\n\"+\"[11] Noviembre\\n\"+\"[12] Diciembre\\n\")\n",
    "            try:\n",
    "                month = int(month)\n",
    "                print(\"numero verificado: \"+str(month))\n",
    "                break\n",
    "            except ValueError:\n",
    "                print(\"Esto no es un numero\")\n",
    "\n",
    "        if month > 0 and month <= 12:\n",
    "            if month == 1:\n",
    "                month=\"January\"\n",
    "            elif month == 2:\n",
    "                month=\"February\"\n",
    "            elif month == 3:\n",
    "                month=\"March\"\n",
    "            elif month == 4:\n",
    "                month=\"April\"\n",
    "            elif month == 5:\n",
    "                month=\"May\"\n",
    "            elif month == 6:\n",
    "                month=\"June\"\n",
    "            elif month == 7:\n",
    "                month=\"July\"\n",
    "            elif month == 8:\n",
    "                month=\"August\"\n",
    "            elif month == 9:\n",
    "                month=\"September\"\n",
    "            elif month == 10:\n",
    "                month=\"October\"\n",
    "            elif month == 11:\n",
    "                month=\"November\"\n",
    "            elif month == 12:\n",
    "                month=\"December\"\n",
    "            break\n",
    "        else:\n",
    "            print(\"No es un mes valido!\\n pruebe de nuevo\")\n",
    "    #----------------------------------------------------------------\n",
    "    while True:\n",
    "        while True:\n",
    "            day = input(\"Que dia del mes quieres revisar?\")\n",
    "            try:\n",
    "                day = int(day)\n",
    "                print(\"es un numero entero\"+str(day))\n",
    "                break\n",
    "            except ValueError:\n",
    "                print(\"No es un numero entero, pruebe de nuevo\")\n",
    "    \n",
    "        if day > 0 and day <= 31:\n",
    "            day = str(day)\n",
    "            break\n",
    "        else:\n",
    "            print(\"No esta dentro del rango valido de dias\")\n",
    "    #----------------------------------------------------------------\n",
    "    carta = str(day)+\"_\"+str(month)+\"_\"+str(year)\n",
    "    return(carta)\n"
   ]
  },
  {
   "cell_type": "code",
   "execution_count": 4,
   "id": "bdcf7ea2",
   "metadata": {},
   "outputs": [
    {
     "name": "stdin",
     "output_type": "stream",
     "text": [
      "Que año quieres revisar?: \n",
      " 2024\n"
     ]
    },
    {
     "name": "stdout",
     "output_type": "stream",
     "text": [
      "numero verificado: 2024\n",
      "Elije el mes que quieres revisar escribiendo su numero del 1 al 12: \n",
      "\n"
     ]
    },
    {
     "name": "stdin",
     "output_type": "stream",
     "text": [
      "[1] Enero\n",
      "[2] Febrero\n",
      "[3] Marzo\n",
      "[4] Abril\n",
      "[5] Mayo\n",
      "[6] Junio\n",
      "[7] Julio\n",
      "[8] Agosto\n",
      "[9] Septiembre\n",
      "[10] Octubre\n",
      "[11] Noviembre\n",
      "[12] Diciembre\n",
      " 3\n"
     ]
    },
    {
     "name": "stdout",
     "output_type": "stream",
     "text": [
      "numero verificado: 3\n"
     ]
    },
    {
     "name": "stdin",
     "output_type": "stream",
     "text": [
      "Que dia del mes quieres revisar? 6\n"
     ]
    },
    {
     "name": "stdout",
     "output_type": "stream",
     "text": [
      "es un numero entero6\n",
      "6_March_2024\n"
     ]
    },
    {
     "data": {
      "text/html": [
       "<div>\n",
       "<style scoped>\n",
       "    .dataframe tbody tr th:only-of-type {\n",
       "        vertical-align: middle;\n",
       "    }\n",
       "\n",
       "    .dataframe tbody tr th {\n",
       "        vertical-align: top;\n",
       "    }\n",
       "\n",
       "    .dataframe thead th {\n",
       "        text-align: right;\n",
       "    }\n",
       "</style>\n",
       "<table border=\"1\" class=\"dataframe\">\n",
       "  <thead>\n",
       "    <tr style=\"text-align: right;\">\n",
       "      <th></th>\n",
       "      <th>fecha</th>\n",
       "      <th>hora</th>\n",
       "      <th>temp1</th>\n",
       "      <th>temp2</th>\n",
       "      <th>temp3</th>\n",
       "      <th>nivel</th>\n",
       "    </tr>\n",
       "  </thead>\n",
       "  <tbody>\n",
       "    <tr>\n",
       "      <th>0</th>\n",
       "      <td>06_March_2024</td>\n",
       "      <td>161052</td>\n",
       "      <td>15</td>\n",
       "      <td>66</td>\n",
       "      <td>94</td>\n",
       "      <td>1</td>\n",
       "    </tr>\n",
       "    <tr>\n",
       "      <th>1</th>\n",
       "      <td>06_March_2024</td>\n",
       "      <td>161052</td>\n",
       "      <td>15</td>\n",
       "      <td>66</td>\n",
       "      <td>94</td>\n",
       "      <td>1</td>\n",
       "    </tr>\n",
       "    <tr>\n",
       "      <th>2</th>\n",
       "      <td>06_March_2024</td>\n",
       "      <td>161052</td>\n",
       "      <td>15</td>\n",
       "      <td>66</td>\n",
       "      <td>94</td>\n",
       "      <td>1</td>\n",
       "    </tr>\n",
       "  </tbody>\n",
       "</table>\n",
       "</div>"
      ],
      "text/plain": [
       "           fecha    hora  temp1  temp2  temp3  nivel\n",
       "0  06_March_2024  161052     15     66     94      1\n",
       "1  06_March_2024  161052     15     66     94      1\n",
       "2  06_March_2024  161052     15     66     94      1"
      ]
     },
     "execution_count": 4,
     "metadata": {},
     "output_type": "execute_result"
    }
   ],
   "source": [
    "# traeme el dataset que voy a utilizar en el proyecto\n",
    "#route = \"../code_text/loot/\"\n",
    "route = \"../loot/\"\n",
    "\n",
    "while True:\n",
    "    mensaje = my_name_file()\n",
    "    print(mensaje)\n",
    "    dataset = \"doc_MaterialOxidationMachine_\"+mensaje+\".txt\"\n",
    "\n",
    "    try:\n",
    "        df_sensors = pd.read_csv(route+dataset, sep=\" \")\n",
    "        break\n",
    "    except FileNotFoundError:\n",
    "        print(\"Archivo no Encontrado, prueba nuevamente\")\n",
    "\n",
    "# el dataframe es:\n",
    "df_sensors.head(3)"
   ]
  },
  {
   "cell_type": "markdown",
   "id": "edb54947",
   "metadata": {},
   "source": [
    "### Atributos del Dataframe"
   ]
  },
  {
   "cell_type": "code",
   "execution_count": 5,
   "id": "22c2f8e7",
   "metadata": {},
   "outputs": [
    {
     "data": {
      "text/plain": [
       "temp1    46.0\n",
       "dtype: float64"
      ]
     },
     "execution_count": 5,
     "metadata": {},
     "output_type": "execute_result"
    }
   ],
   "source": [
    "#Atributos del dataframe\n",
    "# https://pandas.pydata.org/pandas-docs/stable/reference/frame.html\n",
    "df_sensors.dtypes #que tipo de elemento tiene cada columna de dataframe\n",
    "df_sensors.info #informacion general del dataframe\n",
    "df_sensors.keys() #debuelebe un array con lostitulos o head del dataframe, primera fila del dataframe\n",
    "df_sensors.values #devuelve un array conformados de os arrays que contienen los valores de cada fila en el dataframe sin el head\n",
    "df_sensors.ndim #devuelve el numero de dimenciones del dataframe\n",
    "df_sensors.size #tamaño total de elementos en el dataframe\n",
    "df_sensors.shape # total de (filas, columnas)\n",
    "df_sensors.head(1) #retorna las n primeras filas\n",
    "df_sensors.tail(2) #retorna las n ultimas filas\n",
    "df_sensors.describe() #descripcion general estadistica del dataframe\n",
    "df_sensors.keys()[2] #preguntar por el nombre de una columna especifica\n",
    "df_sensors.columns[2]\n",
    "df_sensors.max() #vaores maximos de cada columna\n",
    "df_sensors.max()[2] #valor maximo de columna especifica\n",
    "df_sensors.min()[2] #valor minimo de columna especifica\n",
    "\n",
    "#la media de una clumna especifica, mean no se utiliza cuando hay columnas mixtas en tipo al parecer\n",
    "df_temp = pd.DataFrame(df_sensors.loc[:, 'temp1'])\n",
    "df_temp.mean()\n",
    "\n",
    "df_temp.median() #valor de la mediana\n",
    "\n"
   ]
  },
  {
   "cell_type": "code",
   "execution_count": 6,
   "id": "8dfe33f7",
   "metadata": {},
   "outputs": [
    {
     "data": {
      "text/plain": [
       "'\\n    Temperatura sensor cuneta 1\\n    Temperatura sensor cuneta 2\\n    valor sensor nivel de agua\\n    Temperatura agua  tanque\\n    precencia de Agua? bao nivel o nulo y precencia de agua recomendada o minima para funcionamiento\\n'"
      ]
     },
     "execution_count": 6,
     "metadata": {},
     "output_type": "execute_result"
    }
   ],
   "source": [
    "### a ver, los valores que me pueden llegar de la maquina son\n",
    "\"\"\"\n",
    "    Temperatura sensor cuneta 1\n",
    "    Temperatura sensor cuneta 2\n",
    "    valor sensor nivel de agua\n",
    "    Temperatura agua  tanque\n",
    "    precencia de Agua? bao nivel o nulo y precencia de agua recomendada o minima para funcionamiento\n",
    "\"\"\""
   ]
  },
  {
   "cell_type": "markdown",
   "id": "aa9025af",
   "metadata": {},
   "source": [
    "### Temperatura sensor 1"
   ]
  },
  {
   "cell_type": "code",
   "execution_count": 7,
   "id": "6fd86787",
   "metadata": {},
   "outputs": [
    {
     "name": "stdout",
     "output_type": "stream",
     "text": [
      "Columnas del dataframe original: \n",
      "Index(['fecha', 'hora', 'temp1', 'temp2', 'temp3', 'nivel'], dtype='object')\n",
      "Columna que se necesita: \n",
      "temp1 valor 2\n"
     ]
    }
   ],
   "source": [
    "# temperatura sensor 1\n",
    "\n",
    "#Dataframe original de donde se extraeran los datos\n",
    "print( \"Columnas del dataframe original: \\n\"+str (df_sensors.keys()) )\n",
    "print(\"Columna que se necesita: \\n\"+str(df_sensors.keys()[2])+\" valor 2\")"
   ]
  },
  {
   "cell_type": "code",
   "execution_count": 8,
   "id": "ba26e765",
   "metadata": {},
   "outputs": [
    {
     "name": "stdout",
     "output_type": "stream",
     "text": [
      "Creando nuevo dataframe\n"
     ]
    },
    {
     "data": {
      "text/html": [
       "<div>\n",
       "<style scoped>\n",
       "    .dataframe tbody tr th:only-of-type {\n",
       "        vertical-align: middle;\n",
       "    }\n",
       "\n",
       "    .dataframe tbody tr th {\n",
       "        vertical-align: top;\n",
       "    }\n",
       "\n",
       "    .dataframe thead th {\n",
       "        text-align: right;\n",
       "    }\n",
       "</style>\n",
       "<table border=\"1\" class=\"dataframe\">\n",
       "  <thead>\n",
       "    <tr style=\"text-align: right;\">\n",
       "      <th></th>\n",
       "      <th>hora</th>\n",
       "      <th>temp1</th>\n",
       "    </tr>\n",
       "  </thead>\n",
       "  <tbody>\n",
       "    <tr>\n",
       "      <th>0</th>\n",
       "      <td>161052</td>\n",
       "      <td>15</td>\n",
       "    </tr>\n",
       "    <tr>\n",
       "      <th>1</th>\n",
       "      <td>161052</td>\n",
       "      <td>15</td>\n",
       "    </tr>\n",
       "    <tr>\n",
       "      <th>2</th>\n",
       "      <td>161052</td>\n",
       "      <td>15</td>\n",
       "    </tr>\n",
       "  </tbody>\n",
       "</table>\n",
       "</div>"
      ],
      "text/plain": [
       "     hora  temp1\n",
       "0  161052     15\n",
       "1  161052     15\n",
       "2  161052     15"
      ]
     },
     "execution_count": 8,
     "metadata": {},
     "output_type": "execute_result"
    }
   ],
   "source": [
    "print(\"Creando nuevo dataframe\")\n",
    "df_temp = pd.DataFrame(df_sensors.loc[:, ['hora','temp1']])\n",
    "df_temp.head(3)"
   ]
  },
  {
   "cell_type": "code",
   "execution_count": 9,
   "id": "cc87ab61",
   "metadata": {},
   "outputs": [
    {
     "name": "stdout",
     "output_type": "stream",
     "text": [
      "Total de datos registros: \n",
      "303\n",
      "Valor maximo registrados \n",
      "99\n",
      "Valor minimo registrados \n",
      "0\n"
     ]
    }
   ],
   "source": [
    "#Total de datos recogidos\n",
    "print( \"Total de datos registros: \\n\"+str(df_temp.count()[1]))\n",
    "#Valor maximo registrado\n",
    "print(\"Valor maximo registrados \\n\"+str( df_temp.max()[1] ) )\n",
    "# Valor minimo registrado\n",
    "print(\"Valor minimo registrados \\n\"+str( df_temp.min()[1] ) )"
   ]
  },
  {
   "cell_type": "code",
   "execution_count": 10,
   "id": "eca253e4",
   "metadata": {},
   "outputs": [
    {
     "name": "stdout",
     "output_type": "stream",
     "text": [
      "tamaño deldataframe columna temp: 303\n",
      "tamaño del array: 303\n"
     ]
    }
   ],
   "source": [
    "array_temp = []\n",
    "array_hour = []\n",
    "max_values_temp = df_temp.count()[1]\n",
    "#max_values_temp = len(df_sensors.loc[:, 'temp'])\n",
    "\n",
    "for i in range(0, max_values_temp):\n",
    "    array_temp.append(df_temp.loc[:,'temp1'][i])\n",
    "    array_hour.append(df_temp.loc[:,'hora'][i])\n",
    "\n",
    "print(\"tamaño deldataframe columna temp: \"+str(max_values_temp))\n",
    "print( \"tamaño del array: \"+str(len(array_temp)) )\n",
    "df_aux = pd.DataFrame(array_temp)"
   ]
  },
  {
   "cell_type": "code",
   "execution_count": 11,
   "id": "fd097c89",
   "metadata": {},
   "outputs": [
    {
     "name": "stdout",
     "output_type": "stream",
     "text": [
      "valor medio registrados \n",
      "0    46.910891\n",
      "dtype: float64\n",
      "Valor mediano registrado: \n",
      "0    46.0\n",
      "dtype: float64\n"
     ]
    }
   ],
   "source": [
    "# valor medio registrado\n",
    "print(\"valor medio registrados \\n\"+str(df_aux.mean()) )\n",
    "# valor mediano registrado\n",
    "print(\"Valor mediano registrado: \\n\"+str(df_aux.median()))"
   ]
  },
  {
   "cell_type": "code",
   "execution_count": 12,
   "id": "48f1bb42",
   "metadata": {},
   "outputs": [
    {
     "name": "stdout",
     "output_type": "stream",
     "text": [
      "La hora minima de este registro es: 16.0\n",
      "La hora maxima de este registro es: 16.0\n"
     ]
    },
    {
     "name": "stdin",
     "output_type": "stream",
     "text": [
      "Selecciona una hora de inicio en formato 24h que quieras graficar:  16\n"
     ]
    },
    {
     "name": "stdout",
     "output_type": "stream",
     "text": [
      "Hora de inicio aceptada: 16\n",
      "La hora minima de este registro es: 16.0\n",
      "La hora maxima de este registro es: 16.0\n"
     ]
    },
    {
     "name": "stdin",
     "output_type": "stream",
     "text": [
      "Selecciona una hora de finalizacion en formato 24h que quieras graficar:  16\n"
     ]
    },
    {
     "name": "stdout",
     "output_type": "stream",
     "text": [
      "Hora de Finalizacion aceptada: 16\n"
     ]
    }
   ],
   "source": [
    "import math\n",
    "\n",
    "deci1, hora_min = math.modf( (int(df_temp.min()[0]))/10000 ) #columna de hora\n",
    "deci2, hora_max = math.modf( (int(df_temp.max()[0]))/10000 ) #columna de hora\n",
    "\n",
    "while True:\n",
    "    print(\"La hora minima de este registro es: \"+str(hora_min))\n",
    "    print(\"La hora maxima de este registro es: \"+str(hora_max))\n",
    "\n",
    "    while True:\n",
    "        init_hour = input(\"Selecciona una hora de inicio en formato 24h que quieras graficar: \")\n",
    "        try:\n",
    "            init_hour = int(init_hour)\n",
    "            break\n",
    "        except ValueError:\n",
    "            print(\"Esto no es un numero, prueba de nuevo\")\n",
    "\n",
    "    # print(init_hour)\n",
    "    # print(type(init_hour))\n",
    "    # break\n",
    "\n",
    "    if init_hour >= hora_min and init_hour <= hora_max:\n",
    "        print(\"Hora de inicio aceptada: \"+str(init_hour))\n",
    "        break\n",
    "    else:\n",
    "        print(\"Tiene que estar la hora de inicio entre la hora minima y la hora maxima del registro\")\n",
    "\n",
    "while True:\n",
    "    print(\"La hora minima de este registro es: \"+str(hora_min))\n",
    "    print(\"La hora maxima de este registro es: \"+str(hora_max))\n",
    "\n",
    "    while True:\n",
    "        finish_hour = input(\"Selecciona una hora de finalizacion en formato 24h que quieras graficar: \")\n",
    "        try:\n",
    "            finish_hour = int(finish_hour)\n",
    "            break\n",
    "        except ValueError:\n",
    "            print(\"Esto no es un numero, prueba de nuevo\")\n",
    "\n",
    "    if finish_hour >= hora_min and finish_hour <= hora_max:\n",
    "        print(\"Hora de Finalizacion aceptada: \"+str(finish_hour))\n",
    "        break\n",
    "    else:\n",
    "        print(\"Tiene que estar la hora de finalizacion entre la hora minima y la hora maxima del registro\")\n",
    "\n"
   ]
  },
  {
   "cell_type": "code",
   "execution_count": 32,
   "id": "4baf029b-d8c8-4313-b239-872779ce7800",
   "metadata": {},
   "outputs": [
    {
     "data": {
      "text/html": [
       "<div>\n",
       "<style scoped>\n",
       "    .dataframe tbody tr th:only-of-type {\n",
       "        vertical-align: middle;\n",
       "    }\n",
       "\n",
       "    .dataframe tbody tr th {\n",
       "        vertical-align: top;\n",
       "    }\n",
       "\n",
       "    .dataframe thead th {\n",
       "        text-align: right;\n",
       "    }\n",
       "</style>\n",
       "<table border=\"1\" class=\"dataframe\">\n",
       "  <thead>\n",
       "    <tr style=\"text-align: right;\">\n",
       "      <th></th>\n",
       "      <th>hora</th>\n",
       "      <th>temp2</th>\n",
       "    </tr>\n",
       "  </thead>\n",
       "  <tbody>\n",
       "    <tr>\n",
       "      <th>0</th>\n",
       "      <td>161052</td>\n",
       "      <td>66</td>\n",
       "    </tr>\n",
       "    <tr>\n",
       "      <th>1</th>\n",
       "      <td>161052</td>\n",
       "      <td>66</td>\n",
       "    </tr>\n",
       "    <tr>\n",
       "      <th>2</th>\n",
       "      <td>161052</td>\n",
       "      <td>66</td>\n",
       "    </tr>\n",
       "  </tbody>\n",
       "</table>\n",
       "</div>"
      ],
      "text/plain": [
       "     hora  temp2\n",
       "0  161052     66\n",
       "1  161052     66\n",
       "2  161052     66"
      ]
     },
     "execution_count": 32,
     "metadata": {},
     "output_type": "execute_result"
    }
   ],
   "source": [
    "df_temp = pd.DataFrame(df_sensors.loc[:, ['hora','temp2']])\n",
    "df_temp.head(3)"
   ]
  },
  {
   "cell_type": "markdown",
   "id": "5fe865bb-2063-4336-9c89-cb50e3537ae4",
   "metadata": {},
   "source": [
    "# HERE!"
   ]
  },
  {
   "cell_type": "code",
   "execution_count": 13,
   "id": "0bfd7270",
   "metadata": {},
   "outputs": [
    {
     "name": "stdout",
     "output_type": "stream",
     "text": [
      "tamaño deldataframe columna temp: 303\n",
      "tamaño del array: 303\n",
      "160000\n",
      "160000\n"
     ]
    }
   ],
   "source": [
    "# aqui lllegan las variables init_hour y finish_hour\n",
    "\n",
    "init    = int(init_hour) * 10000\n",
    "finish  = int(finish_hour) * 10000\n",
    "\n",
    "array_temp = []\n",
    "array_hour = []\n",
    "max_values_temp = df_temp.count()[1]\n",
    "#max_values_temp = len(df_sensors.loc[:, 'temp'])\n",
    "\n",
    "for i in range(0, max_values_temp):\n",
    "    if df_temp.loc[:,'hora'][i] >= init and df_temp.loc[:,'hora'][i] <= (init+10999): \n",
    "        array_temp.append(df_temp.loc[:,'temp1'][i])\n",
    "        array_hour.append(df_temp.loc[:,'hora'][i])\n",
    "\n",
    "    elif df_temp.loc[:,'hora'][i] >= finish and df_temp.loc[:,'hora'][i] <= (finish+10999):\n",
    "        array_temp.append(df_temp.loc[:,'temp1'][i])\n",
    "        array_hour.append(df_temp.loc[:,'hora'][i])\n",
    "\n",
    "print(\"tamaño deldataframe columna temp: \"+str(max_values_temp))\n",
    "print( \"tamaño del array: \"+str(len(array_temp)) )\n",
    "print( init )\n",
    "print( finish )\n",
    "#df_aux = pd.DataFrame(array_temp)"
   ]
  },
  {
   "cell_type": "code",
   "execution_count": 14,
   "id": "2d7c5a37",
   "metadata": {},
   "outputs": [
    {
     "data": {
      "text/plain": [
       "Text(0.5, 1.0, 'Historial de Registro de Temperatura\\nHora Inicio: 16:00:00 Hora Final: 16:00:00')"
      ]
     },
     "execution_count": 14,
     "metadata": {},
     "output_type": "execute_result"
    },
    {
     "data": {
      "image/png": "[encoded data removed]",
      "text/plain": [
       "<Figure size 640x480 with 1 Axes>"
      ]
     },
     "metadata": {},
     "output_type": "display_data"
    }
   ],
   "source": [
    "# aqui lllegan las variables init_hour y finish_hour\n",
    "\n",
    "import numpy as np\n",
    "\n",
    "x = np.array(array_hour)\n",
    "y = np.array(array_temp)\n",
    "# Conjunto de datos\n",
    "df = {'Tiempo (HH:MM:SS)': x, 'Temperatura °C': y}\n",
    "sns.set_style(\"darkgrid\")\n",
    "sns.lineplot(x=\"Tiempo (HH:MM:SS)\",\n",
    "             y=\"Temperatura °C\", \n",
    "             data=df, \n",
    "             markers=\"o\", \n",
    "             color=\"red\").set_title(\"Historial de Registro de Temperatura\\n\"+\n",
    "                                    \"Hora Inicio: \"+str(init_hour)+\":00:00\"\n",
    "                                        \" Hora Final: \"+str(finish_hour)+\":00:00\", \n",
    "                                    fontdict = {\"fontsize\": 15,\n",
    "                                    \"fontweight\":\"bold\",\n",
    "                                    \"color\":\"black\"})\n",
    "\n"
   ]
  },
  {
   "cell_type": "code",
   "execution_count": 27,
   "id": "a758ebb1",
   "metadata": {},
   "outputs": [
    {
     "data": {
      "text/plain": [
       "[<matplotlib.lines.Line2D at 0x283a29fd590>]"
      ]
     },
     "execution_count": 27,
     "metadata": {},
     "output_type": "execute_result"
    },
    {
     "data": {
      "image/png": "[encoded data removed]",
      "text/plain": [
       "<Figure size 640x480 with 1 Axes>"
      ]
     },
     "metadata": {},
     "output_type": "display_data"
    }
   ],
   "source": [
    "import numpy as np\n",
    "import matplotlib.pyplot as plt\n",
    "\n",
    "# Datos\n",
    "x = np.array(array_hour)\n",
    "y = np.array(array_temp)\n",
    "\n",
    "# Gráfico de líneas\n",
    "fig, ax = plt.subplots()\n",
    "plt.title(\"Historial de Registro de Temperatura\\n\"+\n",
    "            \"Hora Inicio: \"+str(init_hour)+\":00:00\"\n",
    "            \" Hora Final: \"+str(finish_hour)+\":59:59\")\n",
    "plt.xlabel(\"Tiempo (h)\")\n",
    "plt.ylabel(\"Temperatura °C\")\n",
    "ax.plot(x, y, marker = \"o\", markersize = 0, color=\"red\", linewidth = 1)\n",
    "# ax.plot(x, y, marker = \"o\", ms = 5) # Equivalente\n",
    "# plt.show() \n"
   ]
  },
  {
   "cell_type": "code",
   "execution_count": 28,
   "id": "a8b968ee-2c52-4ec0-8443-77f816699d48",
   "metadata": {},
   "outputs": [
    {
     "name": "stdout",
     "output_type": "stream",
     "text": [
      "[15, 15, 15, 48, 48, 48, 78, 78, 78, 46, 46, 46, 57, 57, 57, 63, 63, 63, 33, 33, 33, 28, 28, 28, 58, 58, 58, 23, 23, 23, 91, 91, 91, 31, 31, 31, 36, 36, 36, 29, 29, 29, 71, 71, 71, 49, 49, 49, 77, 77, 77, 39, 39, 39, 74, 74, 74, 49, 49, 49, 28, 28, 28, 69, 69, 69, 28, 28, 28, 69, 69, 69, 22, 22, 22, 78, 78, 78, 25, 25, 25, 15, 15, 15, 92, 92, 92, 28, 28, 28, 76, 76, 76, 30, 30, 30, 76, 76, 76, 57, 57, 57, 31, 31, 31, 22, 22, 22, 88, 88, 88, 11, 11, 11, 50, 50, 50, 38, 38, 38, 9, 9, 9, 29, 29, 29, 51, 51, 51, 76, 76, 76, 14, 14, 14, 16, 16, 16, 15, 15, 15, 26, 26, 26, 12, 12, 12, 23, 23, 23, 32, 32, 32, 74, 74, 74, 4, 4, 4, 14, 14, 14, 30, 30, 30, 5, 5, 5, 34, 34, 34, 66, 66, 66, 39, 39, 39, 64, 64, 64, 81, 81, 81, 76, 76, 76, 95, 95, 95, 20, 20, 20, 74, 74, 74, 63, 63, 63, 72, 72, 72, 44, 44, 44, 88, 88, 88, 21, 21, 21, 16, 16, 16, 19, 19, 19, 68, 68, 68, 65, 65, 65, 64, 64, 64, 0, 0, 0, 72, 72, 72, 81, 81, 81, 35, 35, 35, 73, 73, 73, 49, 49, 49, 7, 7, 7, 36, 36, 36, 66, 66, 66, 76, 76, 76, 48, 48, 48, 57, 57, 57, 21, 21, 21, 57, 57, 57, 28, 28, 28, 16, 16, 16, 89, 89, 89, 29, 29, 29, 77, 77, 77, 99, 99, 99, 4, 4, 4, 65, 65, 65, 37, 37, 37, 82, 82, 82, 75, 75, 75, 32, 32, 32]\n",
      "[161052, 161052, 161052, 161052, 161052, 161052, 161053, 161053, 161053, 161053, 161053, 161053, 161054, 161054, 161054, 161054, 161054, 161054, 161054, 161054, 161054, 161055, 161055, 161055, 161055, 161055, 161055, 161055, 161055, 161055, 161056, 161056, 161056, 161056, 161056, 161056, 161057, 161057, 161057, 161057, 161057, 161057, 161057, 161057, 161057, 161058, 161058, 161058, 161058, 161058, 161058, 161059, 161059, 161059, 161059, 161059, 161059, 161059, 161059, 161059, 161100, 161100, 161100, 161100, 161100, 161100, 161100, 161100, 161100, 161101, 161101, 161101, 161101, 161101, 161101, 161102, 161102, 161102, 161102, 161102, 161102, 161102, 161102, 161102, 161103, 161103, 161103, 161103, 161103, 161103, 161104, 161104, 161104, 161104, 161104, 161104, 161104, 161104, 161104, 161105, 161105, 161105, 161105, 161105, 161105, 161105, 161105, 161105, 161106, 161106, 161106, 161106, 161106, 161106, 161107, 161107, 161107, 161107, 161107, 161107, 161107, 161107, 161107, 161108, 161108, 161108, 161108, 161108, 161108, 161108, 161108, 161108, 161109, 161109, 161109, 161109, 161109, 161109, 161110, 161110, 161110, 161110, 161110, 161110, 161110, 161110, 161110, 161111, 161111, 161111, 161111, 161111, 161111, 161112, 161112, 161112, 161112, 161112, 161112, 161112, 161112, 161112, 161113, 161113, 161113, 161113, 161113, 161113, 161113, 161113, 161113, 161114, 161114, 161114, 161114, 161114, 161114, 161115, 161115, 161115, 161115, 161115, 161115, 161115, 161115, 161115, 161116, 161116, 161116, 161116, 161116, 161116, 161117, 161117, 161117, 161117, 161117, 161117, 161117, 161117, 161117, 161118, 161118, 161118, 161118, 161118, 161118, 161118, 161118, 161118, 161119, 161119, 161119, 161119, 161119, 161119, 161120, 161120, 161120, 161120, 161120, 161120, 161120, 161120, 161120, 161121, 161121, 161121, 161121, 161121, 161121, 161122, 161122, 161122, 161122, 161122, 161122, 161122, 161122, 161122, 161123, 161123, 161123, 161123, 161123, 161123, 161123, 161123, 161123, 161124, 161124, 161124, 161124, 161124, 161124, 161125, 161125, 161125, 161125, 161125, 161125, 161125, 161125, 161125, 161126, 161126, 161126, 161126, 161126, 161126, 161126, 161126, 161126, 161127, 161127, 161127, 161127, 161127, 161127, 161128, 161128, 161128, 161128, 161128, 161128, 161128, 161128, 161128, 161129, 161129, 161129, 161129, 161129, 161129, 161130, 161130, 161130, 161130, 161130, 161130, 161130, 161130, 161130]\n"
     ]
    }
   ],
   "source": [
    "print(array_temp)\n",
    "print(array_hour)"
   ]
  },
  {
   "cell_type": "code",
   "execution_count": 29,
   "id": "737fea3a",
   "metadata": {},
   "outputs": [
    {
     "data": {
      "text/plain": [
       "Index(['fecha', 'hora', 'temp1', 'temp2', 'temp3', 'nivel'], dtype='object')"
      ]
     },
     "execution_count": 29,
     "metadata": {},
     "output_type": "execute_result"
    }
   ],
   "source": [
    "df_sensors.keys()\n"
   ]
  },
  {
   "cell_type": "code",
   "execution_count": 16,
   "id": "9b76f477",
   "metadata": {},
   "outputs": [
    {
     "data": {
      "text/plain": [
       "hora     int64\n",
       "temp1    int64\n",
       "dtype: object"
      ]
     },
     "execution_count": 16,
     "metadata": {},
     "output_type": "execute_result"
    }
   ],
   "source": [
    "df_temp.dtypes"
   ]
  },
  {
   "cell_type": "markdown",
   "id": "6403da64-25f1-4d6c-8a53-b8a4f94f7b45",
   "metadata": {},
   "source": [
    "### Nivel"
   ]
  },
  {
   "cell_type": "code",
   "execution_count": 16,
   "id": "246d3b4c",
   "metadata": {},
   "outputs": [
    {
     "data": {
      "text/html": [
       "<div>\n",
       "<style scoped>\n",
       "    .dataframe tbody tr th:only-of-type {\n",
       "        vertical-align: middle;\n",
       "    }\n",
       "\n",
       "    .dataframe tbody tr th {\n",
       "        vertical-align: top;\n",
       "    }\n",
       "\n",
       "    .dataframe thead th {\n",
       "        text-align: right;\n",
       "    }\n",
       "</style>\n",
       "<table border=\"1\" class=\"dataframe\">\n",
       "  <thead>\n",
       "    <tr style=\"text-align: right;\">\n",
       "      <th></th>\n",
       "      <th>nivel</th>\n",
       "    </tr>\n",
       "  </thead>\n",
       "  <tbody>\n",
       "    <tr>\n",
       "      <th>0</th>\n",
       "      <td>1</td>\n",
       "    </tr>\n",
       "    <tr>\n",
       "      <th>1</th>\n",
       "      <td>1</td>\n",
       "    </tr>\n",
       "    <tr>\n",
       "      <th>2</th>\n",
       "      <td>1</td>\n",
       "    </tr>\n",
       "  </tbody>\n",
       "</table>\n",
       "</div>"
      ],
      "text/plain": [
       "   nivel\n",
       "0      1\n",
       "1      1\n",
       "2      1"
      ]
     },
     "execution_count": 16,
     "metadata": {},
     "output_type": "execute_result"
    }
   ],
   "source": [
    "# Nivel de agua\n",
    "df_nivel = pd.DataFrame(df_sensors.loc[:, 'nivel'])\n",
    "df_nivel.head(3)"
   ]
  },
  {
   "cell_type": "code",
   "execution_count": 20,
   "id": "f948caa6",
   "metadata": {},
   "outputs": [
    {
     "name": "stdout",
     "output_type": "stream",
     "text": [
      "{1: 809, 0: 831}\n"
     ]
    },
    {
     "name": "stderr",
     "output_type": "stream",
     "text": [
      "C:\\Users\\ruiso\\AppData\\Local\\Temp\\ipykernel_28980\\450327163.py:2: FutureWarning: Calling int on a single element Series is deprecated and will raise a TypeError in the future. Use int(ser.iloc[0]) instead\n",
      "  max = int(dataframe.count())\n"
     ]
    }
   ],
   "source": [
    "dataframe = df_nivel.copy()\n",
    "max = int(dataframe.count())\n",
    "lista = []\n",
    "for i in range(0, max):\n",
    "    lista.append(dataframe.loc[:,\"nivel\"][i])\n",
    "\n",
    "conteo = dict(zip(lista,map(lambda x: lista.count(x),lista)))\n",
    "print(conteo)"
   ]
  },
  {
   "cell_type": "code",
   "execution_count": 26,
   "id": "44ddb2d5-ef3b-47f7-b256-9da2fec42063",
   "metadata": {},
   "outputs": [
    {
     "name": "stdout",
     "output_type": "stream",
     "text": [
      "nivel    1640\n",
      "dtype: int64\n",
      "1640\n"
     ]
    }
   ],
   "source": [
    "#total de datos por count\n",
    "print(dataframe.count())\n",
    "#total de datos por suma hayada\n",
    "suma = conteo[0] + conteo[1]\n",
    "print(suma)"
   ]
  },
  {
   "cell_type": "code",
   "execution_count": 30,
   "id": "1d5a4fc9-3856-405a-bd0c-860dcefb9cc4",
   "metadata": {},
   "outputs": [
    {
     "data": {
      "text/plain": [
       "809"
      ]
     },
     "execution_count": 30,
     "metadata": {},
     "output_type": "execute_result"
    }
   ],
   "source": [
    "conteo[1]"
   ]
  },
  {
   "cell_type": "code",
   "execution_count": 31,
   "id": "ba016673-fe54-4a93-ab12-07c53de3e476",
   "metadata": {},
   "outputs": [
    {
     "data": {
      "text/plain": [
       "831"
      ]
     },
     "execution_count": 31,
     "metadata": {},
     "output_type": "execute_result"
    }
   ],
   "source": [
    "conteo[0]"
   ]
  },
  {
   "cell_type": "code",
   "execution_count": 41,
   "id": "386794a4-c148-425b-87d2-1d2d8f668a12",
   "metadata": {},
   "outputs": [
    {
     "name": "stdout",
     "output_type": "stream",
     "text": [
      "Porcentaje de Nivel Tanque Lleno [809/1640]: 49.33%\n"
     ]
    }
   ],
   "source": [
    "print(\"Porcentaje de Nivel Tanque Lleno [\"\n",
    "      +str(conteo[1])+\"/\"+str(suma)+\"]: \"\n",
    "      +str(round( ((conteo[1] * 100)/suma) ,2)) +\"%\")"
   ]
  },
  {
   "cell_type": "code",
   "execution_count": 43,
   "id": "dee2b745-530f-4cc7-931a-237e3aca128f",
   "metadata": {},
   "outputs": [
    {
     "name": "stdout",
     "output_type": "stream",
     "text": [
      "Porcentaje de Nivel Tanque Vacio [831/1640]: 50.67%\n"
     ]
    }
   ],
   "source": [
    "print(\"Porcentaje de Nivel Tanque Vacio [\"\n",
    "      +str(conteo[0])+\"/\"+str(suma)+\"]: \"\n",
    "      +str(round( ((conteo[0] * 100)/suma) ,2)) +\"%\")"
   ]
  },
  {
   "cell_type": "code",
   "execution_count": null,
   "id": "d86f0620-102d-4f78-b858-9ff03311719e",
   "metadata": {},
   "outputs": [],
   "source": []
  },
  {
   "cell_type": "code",
   "execution_count": null,
   "id": "7ec8fa97-8ef3-44b6-8c2e-d917dc46b956",
   "metadata": {},
   "outputs": [],
   "source": []
  },
  {
   "cell_type": "code",
   "execution_count": 17,
   "id": "4abb7692",
   "metadata": {},
   "outputs": [],
   "source": [
    "# Temperatura sensor 2"
   ]
  },
  {
   "cell_type": "code",
   "execution_count": 18,
   "id": "8df306a1",
   "metadata": {},
   "outputs": [],
   "source": [
    "# Temperatura Tanque"
   ]
  },
  {
   "cell_type": "code",
   "execution_count": 19,
   "id": "6444fb32",
   "metadata": {},
   "outputs": [],
   "source": []
  },
  {
   "cell_type": "code",
   "execution_count": null,
   "id": "2b2bdee6",
   "metadata": {},
   "outputs": [],
   "source": []
  }
 ],
 "metadata": {
  "kernelspec": {
   "display_name": "Python 3 (ipykernel)",
   "language": "python",
   "name": "python3"
  },
  "language_info": {
   "codemirror_mode": {
    "name": "ipython",
    "version": 3
   },
   "file_extension": ".py",
   "mimetype": "text/x-python",
   "name": "python",
   "nbconvert_exporter": "python",
   "pygments_lexer": "ipython3",
   "version": "3.11.4"
  }
 },
 "nbformat": 4,
 "nbformat_minor": 5
}
