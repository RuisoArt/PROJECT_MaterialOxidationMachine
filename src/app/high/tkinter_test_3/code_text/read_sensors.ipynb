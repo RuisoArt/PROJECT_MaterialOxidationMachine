{
 "cells": [
  {
   "cell_type": "markdown",
   "id": "72ceb66f-4380-4653-87f7-0c5bdea7c5b3",
   "metadata": {},
   "source": [
    "### leer archivo"
   ]
  },
  {
   "cell_type": "code",
   "execution_count": null,
   "id": "5c4336ef",
   "metadata": {},
   "outputs": [],
   "source": [
    "# instalar librerias en el sistema, mejor en la carpeta del proyecto\n",
    "# windows 10= \n",
    "        # pip install pandas\n",
    "        # pip install numpy\n",
    "        # pip install seaborn\n",
    "        # pip install matplotlib\n",
    "        # pip install ipython"
   ]
  },
  {
   "cell_type": "code",
   "execution_count": 1,
   "id": "b669d0e4-bba7-40b1-ab5d-8b9c407a4dcf",
   "metadata": {},
   "outputs": [],
   "source": [
    "# importar las librerias necesarias\n",
    "import numpy as np\n",
    "import pandas as pd\n",
    "import seaborn as sns\n",
    "import os\n",
    "from IPython.display import Image"
   ]
  },
  {
   "cell_type": "code",
   "execution_count": 5,
   "id": "23b1dc22",
   "metadata": {},
   "outputs": [],
   "source": [
    "#elejir el archivo por consola\n",
    "def my_name_file():\n",
    "    #----------------------------------------------------------------\n",
    "    while True:\n",
    "        year = input(\"Que año quieres revisar?: \\n\")\n",
    "        try:\n",
    "            year = int(year)\n",
    "            print(\"numero verificado: \"+str(year))\n",
    "            break\n",
    "        except ValueError:\n",
    "            print(\"Esto no es un numero\")\n",
    "    #----------------------------------------------------------------\n",
    "    while True:\n",
    "        print(\"Elije el mes que quieres revisar escribiendo su numero del 1 al 12: \\n\")\n",
    "\n",
    "        while True:\n",
    "            month = input(\"[1] Enero\\n\"+\"[2] Febrero\\n\"+\"[3] Marzo\\n\"+\n",
    "                        \"[4] Abril\\n\"+\"[5] Mayo\\n\"+\"[6] Junio\\n\"+\n",
    "                        \"[7] Julio\\n\"+\"[8] Agosto\\n\"+\"[9] Septiembre\\n\"+\n",
    "                        \"[10] Octubre\\n\"+\"[11] Noviembre\\n\"+\"[12] Diciembre\\n\")\n",
    "            try:\n",
    "                month = int(month)\n",
    "                print(\"numero verificado: \"+str(month))\n",
    "                break\n",
    "            except ValueError:\n",
    "                print(\"Esto no es un numero\")\n",
    "\n",
    "        if month > 0 and month <= 12:\n",
    "            if month == 1:\n",
    "                month=\"January\"\n",
    "            elif month == 2:\n",
    "                month=\"February\"\n",
    "            elif month == 3:\n",
    "                month=\"March\"\n",
    "            elif month == 4:\n",
    "                month=\"April\"\n",
    "            elif month == 5:\n",
    "                month=\"May\"\n",
    "            elif month == 6:\n",
    "                month=\"June\"\n",
    "            elif month == 7:\n",
    "                month=\"July\"\n",
    "            elif month == 8:\n",
    "                month=\"August\"\n",
    "            elif month == 9:\n",
    "                month=\"September\"\n",
    "            elif month == 10:\n",
    "                month=\"October\"\n",
    "            elif month == 11:\n",
    "                month=\"November\"\n",
    "            elif month == 12:\n",
    "                month=\"December\"\n",
    "            break\n",
    "        else:\n",
    "            print(\"No es un mes valido!\\n pruebe de nuevo\")\n",
    "    #----------------------------------------------------------------\n",
    "    while True:\n",
    "        while True:\n",
    "            day = input(\"Que dia del mes quieres revisar?\")\n",
    "            try:\n",
    "                day = int(day)\n",
    "                print(\"es un numero entero\"+str(day))\n",
    "                break\n",
    "            except ValueError:\n",
    "                print(\"No es un numero entero, pruebe de nuevo\")\n",
    "    \n",
    "        if day > 0 and day <= 31:\n",
    "            day = str(day)\n",
    "            break\n",
    "        else:\n",
    "            print(\"No esta dentro del rango valido de dias\")\n",
    "    #----------------------------------------------------------------\n",
    "    carta = str(day)+\"_\"+str(month)+\"_\"+str(year)\n",
    "    return(carta)\n"
   ]
  },
  {
   "cell_type": "code",
   "execution_count": null,
   "id": "bdcf7ea2",
   "metadata": {},
   "outputs": [],
   "source": [
    "# traeme el dataset que voy a utilizar en el proyecto\n",
    "route = \"../code_text/loot/\"\n",
    "\n",
    "while True:\n",
    "    mensaje = my_name_file()\n",
    "    print(mensaje)\n",
    "    dataset = \"doc_MaterialOxidationMachine_\"+mensaje+\".txt\"\n",
    "\n",
    "    try:\n",
    "        df_sensors = pd.read_csv(route+dataset, sep=\" \")\n",
    "        break\n",
    "    except FileNotFoundError:\n",
    "        print(\"Archivo no Encontrado, prueba nuevamente\")\n",
    "\n",
    "# el dataframe es:\n",
    "df_sensors.head(3)"
   ]
  },
  {
   "cell_type": "code",
   "execution_count": null,
   "id": "22c2f8e7",
   "metadata": {},
   "outputs": [],
   "source": []
  },
  {
   "cell_type": "code",
   "execution_count": null,
   "id": "80ddf150",
   "metadata": {},
   "outputs": [],
   "source": []
  },
  {
   "cell_type": "code",
   "execution_count": null,
   "id": "99d12a60",
   "metadata": {},
   "outputs": [],
   "source": []
  },
  {
   "cell_type": "code",
   "execution_count": null,
   "id": "8df306a1",
   "metadata": {},
   "outputs": [],
   "source": []
  }
 ],
 "metadata": {
  "kernelspec": {
   "display_name": "Python 3 (ipykernel)",
   "language": "python",
   "name": "python3"
  },
  "language_info": {
   "codemirror_mode": {
    "name": "ipython",
    "version": 3
   },
   "file_extension": ".py",
   "mimetype": "text/x-python",
   "name": "python",
   "nbconvert_exporter": "python",
   "pygments_lexer": "ipython3",
   "version": "3.11.4"
  }
 },
 "nbformat": 4,
 "nbformat_minor": 5
}
